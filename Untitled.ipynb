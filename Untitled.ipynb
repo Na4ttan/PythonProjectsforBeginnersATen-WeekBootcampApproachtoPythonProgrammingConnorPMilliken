{
 "cells": [
  {
   "cell_type": "markdown",
   "id": "30e31d0e",
   "metadata": {},
   "source": [
    "# Calcular Custo de ir trabalhar de moto🏍 \n"
   ]
  },
  {
   "cell_type": "code",
   "execution_count": 17,
   "id": "33f350a7",
   "metadata": {
    "scrolled": true
   },
   "outputs": [
    {
     "name": "stdout",
     "output_type": "stream",
     "text": [
      "digite a distância de ida55\n",
      "digite a distancia de volta55\n",
      "digite o valor da gasolina5\n",
      "quanto o veículo faz por litro?15\n",
      "digite o valor do oleo50\n",
      "com quantos km rodados vc tem que trocar o oleo?2000\n"
     ]
    },
    {
     "ename": "NameError",
     "evalue": "name 'valorOleo' is not defined",
     "output_type": "error",
     "traceback": [
      "\u001b[1;31m---------------------------------------------------------------------------\u001b[0m",
      "\u001b[1;31mNameError\u001b[0m                                 Traceback (most recent call last)",
      "Cell \u001b[1;32mIn[17], line 20\u001b[0m\n\u001b[0;32m     17\u001b[0m     answer \u001b[38;5;241m=\u001b[39m kmRodadosNoMes \u001b[38;5;241m/\u001b[39m km_rodados_para_trocar_o_oleo \u001b[38;5;241m*\u001b[39m valorOleo\n\u001b[0;32m     18\u001b[0m     \u001b[38;5;28;01mreturn\u001b[39;00m answer\n\u001b[1;32m---> 20\u001b[0m gasolinaGasta(distancia_ida, distancia_volta, quanto_faz_porLitro, valor_da_gasolina)\n",
      "Cell \u001b[1;32mIn[17], line 12\u001b[0m, in \u001b[0;36mgasolinaGasta\u001b[1;34m(distancia_ida, distancia_volta, quanto_faz_porLitro, valor_da_gasolina)\u001b[0m\n\u001b[0;32m     10\u001b[0m kmRodadosNoMes \u001b[38;5;241m=\u001b[39m (distancia_ida \u001b[38;5;241m+\u001b[39m distancia_volta) \u001b[38;5;241m*\u001b[39m \u001b[38;5;241m26\u001b[39m\n\u001b[0;32m     11\u001b[0m resposta \u001b[38;5;241m=\u001b[39m kmRodadosNoMes \u001b[38;5;241m/\u001b[39m quanto_faz_porLitro \u001b[38;5;241m*\u001b[39m valor_da_gasolina\n\u001b[1;32m---> 12\u001b[0m oleo \u001b[38;5;241m=\u001b[39m calcOleo(valor_do_oleo, km_rodados_para_trocar_o_oleo, kmRodadosNoMes)\n\u001b[0;32m     13\u001b[0m resposta \u001b[38;5;241m+\u001b[39m\u001b[38;5;241m=\u001b[39m oleo\n\u001b[0;32m     14\u001b[0m \u001b[38;5;28mprint\u001b[39m(resposta)\n",
      "Cell \u001b[1;32mIn[17], line 17\u001b[0m, in \u001b[0;36mcalcOleo\u001b[1;34m(valor_do_oleo, km_rodados_para_trocar_o_oleo, kmRodadosNoMes)\u001b[0m\n\u001b[0;32m     16\u001b[0m \u001b[38;5;28;01mdef\u001b[39;00m \u001b[38;5;21mcalcOleo\u001b[39m(valor_do_oleo, km_rodados_para_trocar_o_oleo, kmRodadosNoMes):\n\u001b[1;32m---> 17\u001b[0m     answer \u001b[38;5;241m=\u001b[39m kmRodadosNoMes \u001b[38;5;241m/\u001b[39m km_rodados_para_trocar_o_oleo \u001b[38;5;241m*\u001b[39m valorOleo\n\u001b[0;32m     18\u001b[0m     \u001b[38;5;28;01mreturn\u001b[39;00m answer\n",
      "\u001b[1;31mNameError\u001b[0m: name 'valorOleo' is not defined"
     ]
    }
   ],
   "source": [
    "distancia_ida = float(input(\"digite a distância de ida\"))\n",
    "distancia_volta = float(input(\"digite a distancia de volta\"))\n",
    "valor_da_gasolina = float(input(\"digite o valor da gasolina\"))\n",
    "quanto_faz_porLitro = int(input(\"quanto o veículo faz por litro?\"))\n",
    "valor_do_oleo = float(input(\"digite o valor do oleo\"))\n",
    "km_rodados_para_trocar_o_oleo = int(input(\"com quantos km rodados vc tem que trocar o oleo?\"))\n",
    "\n",
    "\n",
    "def gasolinaGasta(distancia_ida, distancia_volta, quanto_faz_porLitro, valor_da_gasolina):\n",
    "    kmRodadosNoMes = (distancia_ida + distancia_volta) * 26\n",
    "    resposta = kmRodadosNoMes / quanto_faz_porLitro * valor_da_gasolina\n",
    "    oleo = calcOleo(valor_do_oleo, km_rodados_para_trocar_o_oleo, kmRodadosNoMes)\n",
    "    resposta += oleo\n",
    "    print(resposta)\n",
    "\n",
    "def calcOleo(valor_do_oleo, km_rodados_para_trocar_o_oleo, kmRodadosNoMes):\n",
    "    answer = kmRodadosNoMes / km_rodados_para_trocar_o_oleo * valorOleo\n",
    "    return answer\n",
    "\n",
    "gasolinaGasta(distancia_ida, distancia_volta, quanto_faz_porLitro, valor_da_gasolina)"
   ]
  },
  {
   "cell_type": "code",
   "execution_count": 9,
   "id": "24d7483b",
   "metadata": {},
   "outputs": [
    {
     "name": "stdout",
     "output_type": "stream",
     "text": [
      "digite a distância de ida36\n",
      "digite a distancia de volta40\n",
      "digite o valor da gasolina5.1\n",
      "quanto o veículo faz por litro?25\n",
      "digite o valor do oleo70\n",
      "com quantos km rodados vc tem que trocar o oleo?1500\n",
      "O custo total para ir trabalhar é 19.05 reais\n"
     ]
    }
   ],
   "source": [
    "# Entradas de dados\n",
    "distancia_ida = float(input(\"digite a distância de ida\"))\n",
    "distancia_volta = float(input(\"digite a distancia de volta\"))\n",
    "valor_da_gasolina = float(input(\"digite o valor da gasolina\"))\n",
    "quanto_faz_porLitro = int(input(\"quanto o veículo faz por litro?\"))\n",
    "valor_do_oleo = float(input(\"digite o valor do oleo\"))\n",
    "km_rodados_para_trocar_o_oleo = int(input(\"com quantos km rodados vc tem que trocar o oleo?\"))\n",
    "\n",
    "# Cálculo do consumo de gasolina\n",
    "distancia_total = distancia_ida + distancia_volta\n",
    "consumo_de_gasolina = distancia_total / quanto_faz_porLitro\n",
    "custo_de_gasolina = consumo_de_gasolina * valor_da_gasolina\n",
    "\n",
    "# Cálculo do consumo de óleo\n",
    "consumo_de_oleo = distancia_total / km_rodados_para_trocar_o_oleo\n",
    "custo_de_oleo = consumo_de_oleo * valor_do_oleo\n",
    "\n",
    "# Cálculo do custo total\n",
    "custo_total = custo_de_gasolina + custo_de_oleo\n",
    "\n",
    "# Saída do resultado\n",
    "print(f\"O custo total para ir trabalhar é {custo_total:.2f} reais\")"
   ]
  },
  {
   "cell_type": "code",
   "execution_count": 14,
   "id": "d593d15d",
   "metadata": {},
   "outputs": [
    {
     "name": "stdout",
     "output_type": "stream",
     "text": [
      "digite a distância de ida1.2\n",
      "digite a distancia de volta1.2\n",
      "digite o valor da gasolina5.1\n",
      "quanto o veículo faz por litro?25\n",
      "digite o valor do oleo70\n",
      "com quantos km rodados vc tem que trocar o oleo?1500\n",
      "O custo total para ir trabalhar é 15.64 reais\n"
     ]
    }
   ],
   "source": [
    "# Entradas de dados\n",
    "distancia_ida = float(input(\"digite a distância de ida\"))\n",
    "distancia_volta = float(input(\"digite a distancia de volta\"))\n",
    "valor_da_gasolina = float(input(\"digite o valor da gasolina\"))\n",
    "quanto_faz_porLitro = int(input(\"quanto o veículo faz por litro?\"))\n",
    "valor_do_oleo = float(input(\"digite o valor do oleo\"))\n",
    "km_rodados_para_trocar_o_oleo = int(input(\"com quantos km rodados vc tem que trocar o oleo?\"))\n",
    "\n",
    "# Cálculo do consumo de gasolina\n",
    "distancia_total = (distancia_ida + distancia_volta) * 26\n",
    "consumo_de_gasolina = distancia_total / quanto_faz_porLitro\n",
    "custo_de_gasolina = consumo_de_gasolina * valor_da_gasolina\n",
    "\n",
    "# Cálculo do consumo de óleo\n",
    "consumo_de_oleo = distancia_total / km_rodados_para_trocar_o_oleo\n",
    "custo_de_oleo = consumo_de_oleo * valor_do_oleo\n",
    "\n",
    "# Cálculo do custo total\n",
    "custo_total = custo_de_gasolina + custo_de_oleo\n",
    "\n",
    "# Saída do resultado\n",
    "print(f\"O custo total para ir trabalhar é {custo_total:.2f} reais\")"
   ]
  },
  {
   "cell_type": "code",
   "execution_count": null,
   "id": "66f8a3f9",
   "metadata": {},
   "outputs": [],
   "source": []
  }
 ],
 "metadata": {
  "kernelspec": {
   "display_name": "Python 3 (ipykernel)",
   "language": "python",
   "name": "python3"
  },
  "language_info": {
   "codemirror_mode": {
    "name": "ipython",
    "version": 3
   },
   "file_extension": ".py",
   "mimetype": "text/x-python",
   "name": "python",
   "nbconvert_exporter": "python",
   "pygments_lexer": "ipython3",
   "version": "3.11.4"
  }
 },
 "nbformat": 4,
 "nbformat_minor": 5
}
