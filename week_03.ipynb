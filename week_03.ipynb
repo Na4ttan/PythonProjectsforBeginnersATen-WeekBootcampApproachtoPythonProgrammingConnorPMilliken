{
 "cells": [
  {
   "cell_type": "markdown",
   "id": "a6a8cc01",
   "metadata": {},
   "source": [
    "challenge quiestion\n"
   ]
  },
  {
   "cell_type": "code",
   "execution_count": 2,
   "id": "85d45661",
   "metadata": {},
   "outputs": [],
   "source": [
    "\n",
    "#print('{} is my favorite sport'.format(element))\n",
    "#element = 'Football'\n",
    "\n",
    "#it will not work because the varieble was declared before the function that call it \n"
   ]
  },
  {
   "cell_type": "markdown",
   "id": "af61d347",
   "metadata": {},
   "source": [
    "User Input & Type Converting"
   ]
  },
  {
   "cell_type": "code",
   "execution_count": 4,
   "id": "48924e2f",
   "metadata": {},
   "outputs": [
    {
     "name": "stdout",
     "output_type": "stream",
     "text": [
      "What is your name?Natan\n",
      "Natan\n"
     ]
    }
   ],
   "source": [
    "# accepting and outputting user input\n",
    "print(input(\"What is your name?\"))"
   ]
  },
  {
   "cell_type": "code",
   "execution_count": 5,
   "id": "5be376f4",
   "metadata": {},
   "outputs": [
    {
     "name": "stdout",
     "output_type": "stream",
     "text": [
      "What is your name?\n",
      "\n"
     ]
    }
   ],
   "source": [
    "# accepting and outputting user input\n",
    "print(input(\"What is your name?\"))\n"
   ]
  },
  {
   "cell_type": "code",
   "execution_count": 16,
   "id": "8024eda4",
   "metadata": {},
   "outputs": [
    {
     "name": "stdout",
     "output_type": "stream",
     "text": [
      "What is your name?Natan\n",
      "Hello Natan!\n"
     ]
    }
   ],
   "source": [
    "# saving what the user inputs\n",
    "ans = input(\"What is your name?\")\n",
    "print(\"Hello {}!\".format(ans))"
   ]
  },
  {
   "cell_type": "code",
   "execution_count": 17,
   "id": "4e0264e1",
   "metadata": {},
   "outputs": [
    {
     "name": "stdout",
     "output_type": "stream",
     "text": [
      "<class 'int'>\n"
     ]
    }
   ],
   "source": [
    "# how to check the data type of a variable\n",
    "num = 5\n",
    "print(type(num))"
   ]
  },
  {
   "cell_type": "code",
   "execution_count": 19,
   "id": "36676329",
   "metadata": {},
   "outputs": [
    {
     "name": "stdout",
     "output_type": "stream",
     "text": [
      "digite um valor1\n",
      "<class 'str'>\n"
     ]
    }
   ],
   "source": [
    "nume = input(\"digite um valor\")\n",
    "print(type(nume))"
   ]
  },
  {
   "cell_type": "code",
   "execution_count": 20,
   "id": "385f18cd",
   "metadata": {},
   "outputs": [
    {
     "name": "stdout",
     "output_type": "stream",
     "text": [
      "<class 'int'>\n"
     ]
    }
   ],
   "source": [
    "# converting a varieble from one data type to another\n",
    "num = \"9\"\n",
    "num = int(num) #re-declaring num to store an integer\n",
    "print(type(num)) #checking type to make sure conversion worded "
   ]
  },
  {
   "cell_type": "code",
   "execution_count": 21,
   "id": "0b5906d4",
   "metadata": {},
   "outputs": [
    {
     "name": "stdout",
     "output_type": "stream",
     "text": [
      "digite um numero1\n",
      "<class 'int'>\n"
     ]
    }
   ],
   "source": [
    "# converting a variable from one data type to another\n",
    "num = input(\"digite um numero\")\n",
    "num = int(num) # re-declaring num to store an integer\n",
    "print( type(num) ) # checking type to make sure conversion worked"
   ]
  },
  {
   "cell_type": "code",
   "execution_count": 22,
   "id": "d17fc276",
   "metadata": {},
   "outputs": [
    {
     "name": "stdout",
     "output_type": "stream",
     "text": [
      "digite um valor2\n",
      "digite mais um valor2\n",
      "o resultado é 4\n"
     ]
    }
   ],
   "source": [
    "n1 = input(\"digite um valor\")\n",
    "n2 = input(\"digite mais um valor\")\n",
    "n1, n2 = int(n1), int(n2)\n",
    "\n",
    "print(\"o resultado é\",(n1+n2))"
   ]
  },
  {
   "cell_type": "code",
   "execution_count": 23,
   "id": "174e13ad",
   "metadata": {},
   "outputs": [
    {
     "name": "stdout",
     "output_type": "stream",
     "text": [
      "Type a number to add:2\n",
      "<class 'str'>\n",
      "100 + 2 = 102\n"
     ]
    }
   ],
   "source": [
    "# working with user input to perform calculaations\n",
    "ans = input(\"Type a number to add:\")\n",
    "print(type(ans)) #default type is string, must convert\n",
    "result = 100 + int(ans)\n",
    "print(\"100 + {} = {}\".format(ans, result))"
   ]
  },
  {
   "cell_type": "code",
   "execution_count": 28,
   "id": "f623cfeb",
   "metadata": {
    "scrolled": true
   },
   "outputs": [
    {
     "name": "stdout",
     "output_type": "stream",
     "text": [
      "Type a number to add:-9\n",
      "100 + -9.0 = 91.0\n",
      "The program did not break!\n"
     ]
    }
   ],
   "source": [
    "# using the try and except blocks, use tab to indent where necessary \n",
    "try:\n",
    "    ans = float(input(\"Type a number to add:\"))\n",
    "    print(\"100 + {} = {}\".format(ans, 100 + ans))\n",
    "except:\n",
    "    print(\"You did not put in a valid number!\")\n",
    "#without try/except print statement would not get hit if error occurs \n",
    "print(\"The program did not break!\")"
   ]
  },
  {
   "cell_type": "code",
   "execution_count": 47,
   "id": "c945843f",
   "metadata": {},
   "outputs": [
    {
     "name": "stdout",
     "output_type": "stream",
     "text": [
      "digite uma valor booleanodddd\n",
      "<class 'str'>\n",
      "True\n",
      "<class 'bool'>\n",
      "True\n"
     ]
    }
   ],
   "source": [
    "ourvar = input(\"digite uma valor booleano\")\n",
    "print(type(ourvar))\n",
    "ourvar = bool(ourvar)\n",
    "print(ourvar)\n",
    "print(type(ourvar))\n",
    "print(ourvar)"
   ]
  },
  {
   "cell_type": "code",
   "execution_count": 50,
   "id": "6e4b669a",
   "metadata": {},
   "outputs": [
    {
     "name": "stdout",
     "output_type": "stream",
     "text": [
      "digite um valor00999\n",
      "digite o segundo valor01\n",
      "o resultado é 1000\n"
     ]
    }
   ],
   "source": [
    "n1 = input(\"digite um valor\")\n",
    "n2 = input(\"digite o segundo valor\")\n",
    "print(\"o resultado é {}\".format(int(n1) + int(n2)))"
   ]
  },
  {
   "cell_type": "code",
   "execution_count": 51,
   "id": "5ec8e59a",
   "metadata": {},
   "outputs": [
    {
     "name": "stdout",
     "output_type": "stream",
     "text": [
      "digite o ano em que o carro foi fabricado1973\n",
      "digite a cor do veículovermelho\n",
      "digite a marcaVW\n",
      "digite o modeloFusca\n",
      "1973 vermelho VW Fusca\n"
     ]
    }
   ],
   "source": [
    "year = input(\"digite o ano em que o carro foi fabricado\")\n",
    "cor = input(\"digite a cor do veículo\")\n",
    "marca = input(\"digite a marca\")\n",
    "model = input(\"digite o modelo\")\n",
    "print(\"{} {} {} {}\".format(year, cor, marca, model))"
   ]
  },
  {
   "cell_type": "code",
   "execution_count": 2,
   "id": "ceeb1107",
   "metadata": {},
   "outputs": [
    {
     "name": "stdout",
     "output_type": "stream",
     "text": [
      "x is less than y\n"
     ]
    }
   ],
   "source": [
    "# usint an if statement to only run code if the condition is met\n",
    "x, y = 5, 10\n",
    "if x < y:\n",
    "    print(\"x is less than y\")"
   ]
  },
  {
   "cell_type": "code",
   "execution_count": 7,
   "id": "5f5c1866",
   "metadata": {},
   "outputs": [
    {
     "name": "stdout",
     "output_type": "stream",
     "text": [
      "What is 5 + 5?erhe\n"
     ]
    },
    {
     "ename": "ValueError",
     "evalue": "invalid literal for int() with base 10: 'erhe'",
     "output_type": "error",
     "traceback": [
      "\u001b[1;31m---------------------------------------------------------------------------\u001b[0m",
      "\u001b[1;31mValueError\u001b[0m                                Traceback (most recent call last)",
      "Cell \u001b[1;32mIn[7], line 2\u001b[0m\n\u001b[0;32m      1\u001b[0m \u001b[38;5;66;03m# checking user input\u001b[39;00m\n\u001b[1;32m----> 2\u001b[0m ans \u001b[38;5;241m=\u001b[39m \u001b[38;5;28mint\u001b[39m(\u001b[38;5;28minput\u001b[39m(\u001b[38;5;124m\"\u001b[39m\u001b[38;5;124mWhat is 5 + 5?\u001b[39m\u001b[38;5;124m\"\u001b[39m))\n\u001b[0;32m      3\u001b[0m \u001b[38;5;28;01mif\u001b[39;00m ans \u001b[38;5;241m==\u001b[39m \u001b[38;5;241m10\u001b[39m:\n\u001b[0;32m      4\u001b[0m     \u001b[38;5;28mprint\u001b[39m(\u001b[38;5;124m\"\u001b[39m\u001b[38;5;124mYou are goddamn right\u001b[39m\u001b[38;5;124m\"\u001b[39m)\n",
      "\u001b[1;31mValueError\u001b[0m: invalid literal for int() with base 10: 'erhe'"
     ]
    }
   ],
   "source": [
    "# checking user input\n",
    "ans = int(input(\"What is 5 + 5?\"))\n",
    "if ans == 10:\n",
    "    print(\"You are goddamn right\")"
   ]
  },
  {
   "cell_type": "code",
   "execution_count": 8,
   "id": "ef95f0b1",
   "metadata": {},
   "outputs": [
    {
     "name": "stdout",
     "output_type": "stream",
     "text": [
      "Both statements were true\n"
     ]
    }
   ],
   "source": [
    "# using the keyword 'and' in 'an' 'if statement'\n",
    "x, y, z = 5, 10, 5\n",
    "if x < y and x == z:\n",
    "    print(\"Both statements were true\")"
   ]
  },
  {
   "cell_type": "code",
   "execution_count": 9,
   "id": "c6763471",
   "metadata": {},
   "outputs": [
    {
     "name": "stdout",
     "output_type": "stream",
     "text": [
      "One are both statements were true\n"
     ]
    }
   ],
   "source": [
    "# using the keyword 'or' in an 'if statement'\n",
    "x, y, z = 5, 10, 5\n",
    "if x < y or x != z:\n",
    "    print(\"One are both statements were true\")"
   ]
  },
  {
   "cell_type": "code",
   "execution_count": 10,
   "id": "e3c2fb8a",
   "metadata": {},
   "outputs": [
    {
     "name": "stdout",
     "output_type": "stream",
     "text": [
      "Baseball contains the caracter b\n"
     ]
    }
   ],
   "source": [
    "# using the keyword 'in' within an 'if statement'\n",
    "word = \"Baseball\"\n",
    "if \"b\" in word:\n",
    "    print(\"{} contains the caracter b\".format(word))"
   ]
  },
  {
   "cell_type": "code",
   "execution_count": 11,
   "id": "645d89b3",
   "metadata": {},
   "outputs": [
    {
     "name": "stdout",
     "output_type": "stream",
     "text": [
      "Baseball does not contain the character x\n"
     ]
    }
   ],
   "source": [
    "# using the keyword 'not in' within an 'if statement'\n",
    "word = \"Baseball\"\n",
    "if \"x\" not in word:\n",
    "    print(\"{} does not contain the character x\".format(word))"
   ]
  },
  {
   "cell_type": "code",
   "execution_count": 13,
   "id": "2c9cdb5d",
   "metadata": {},
   "outputs": [
    {
     "name": "stdout",
     "output_type": "stream",
     "text": [
      "fala qualquer coisa aíee\n"
     ]
    }
   ],
   "source": [
    "ans = input(\"fala qualquer coisa aí\")\n",
    "if \"es\" in ans:\n",
    "    print(\"sua frase contém ES\")"
   ]
  },
  {
   "cell_type": "code",
   "execution_count": 16,
   "id": "f2ddc8e4",
   "metadata": {},
   "outputs": [
    {
     "name": "stdout",
     "output_type": "stream",
     "text": [
      "fala qualquer coisa aíing\n"
     ]
    }
   ],
   "source": [
    "ans = input(\"fala qualquer coisa aí\")\n",
    "if \"ing:\" in ans:\n",
    "    print(\"sua frase contém ing no fim\")"
   ]
  },
  {
   "cell_type": "code",
   "execution_count": 18,
   "id": "a8d5f03d",
   "metadata": {},
   "outputs": [
    {
     "name": "stdout",
     "output_type": "stream",
     "text": [
      "Enter a word: cao\n",
      "The word does not end with 'ing'.\n"
     ]
    }
   ],
   "source": [
    "user_input = input(\"Enter a word: \")\n",
    "\n",
    "if user_input[-3:] == \"ing\":\n",
    "    print(\"The word ends with 'ing'.\")\n",
    "else:\n",
    "    print(\"The word does not end with 'ing'.\")\n",
    "    "
   ]
  },
  {
   "cell_type": "code",
   "execution_count": 20,
   "id": "939fae8f",
   "metadata": {},
   "outputs": [
    {
     "name": "stdout",
     "output_type": "stream",
     "text": [
      "digite uma palavrasatanAs\n",
      "digite outra palavraSatanas\n",
      "the words are the same\n"
     ]
    }
   ],
   "source": [
    "word1 = input(\"digite uma palavra\")\n",
    "word2 = input(\"digite outra palavra\")\n",
    "\n",
    "if word1.lower() == word2.lower():\n",
    "    print(\"the words are the same\")\n",
    "else:\n",
    "    print(\"são palavras diferentes\")"
   ]
  },
  {
   "cell_type": "code",
   "execution_count": 25,
   "id": "424cc12b",
   "metadata": {},
   "outputs": [
    {
     "name": "stdout",
     "output_type": "stream",
     "text": [
      "digite um numero2\n",
      " 2 + 2 é 4 e 2 x 2 é 4\n"
     ]
    }
   ],
   "source": [
    "num = int(input(\"digite um numero\"))\n",
    "squared = num * num\n",
    "\n",
    "if squared > 10:\n",
    "    print(squared)\n",
    "else:\n",
    "    print(\" {} + {} é {} e {} x {} é {}\".format(num, num, num + num, num, num, num * num))"
   ]
  },
  {
   "cell_type": "code",
   "execution_count": 5,
   "id": "5b9a33dd",
   "metadata": {},
   "outputs": [
    {
     "name": "stdout",
     "output_type": "stream",
     "text": [
      "digite um valor x33\n",
      "digite um valor y para comparar23\n",
      "33 is greater than 23\n"
     ]
    }
   ],
   "source": [
    "# using the elif conditional statement\n",
    "x = int(input(\"digite um valor x\"))\n",
    "y = int(input(\"digite um valor y para comparar\"))\n",
    "\n",
    "if x > y:\n",
    "    print(\"{} is greater than {}\".format(x, y))\n",
    "elif x < y:\n",
    "    print(\"{} is less than {}\".format(x, y))\n",
    "else:\n",
    "    print(\"os valores são iguais\")"
   ]
  },
  {
   "cell_type": "code",
   "execution_count": 6,
   "id": "8839bdce",
   "metadata": {},
   "outputs": [
    {
     "name": "stdout",
     "output_type": "stream",
     "text": [
      "x is equal to z\n"
     ]
    }
   ],
   "source": [
    "# whiting multiple conditionals within each other - multiple blocks levels\n",
    "x, y, z = 5, 10, 5\n",
    "if x > y:\n",
    "    print(greater)\n",
    "elif x <= y:\n",
    "    if x == z:\n",
    "        print(\"x is equal to z\")\n",
    "    elif x != z:\n",
    "        print(\"x is not equal to z\")"
   ]
  },
  {
   "cell_type": "code",
   "execution_count": 8,
   "id": "0b288f5e",
   "metadata": {},
   "outputs": [
    {
     "name": "stdout",
     "output_type": "stream",
     "text": [
      "x is less\n"
     ]
    }
   ],
   "source": [
    "# testing output of an if and elif statement that are both true\n",
    "x, y, z = 5, 10, 5\n",
    "if x < y:\n",
    "    print(\"x is less\")\n",
    "elif x == z:\n",
    "    print(\"x is equal to z\")"
   ]
  },
  {
   "cell_type": "code",
   "execution_count": 9,
   "id": "0449640c",
   "metadata": {},
   "outputs": [
    {
     "name": "stdout",
     "output_type": "stream",
     "text": [
      "x is less\n",
      "x is equal\n"
     ]
    }
   ],
   "source": [
    "# testing output of two if statements in a row that are both true\n",
    "x, y, z = 5, 10, 5\n",
    "if x < y:\n",
    "    print(\"x is less\")\n",
    "if x == z:\n",
    "    print(\"x is equal\")"
   ]
  },
  {
   "cell_type": "markdown",
   "id": "d82ed226",
   "metadata": {},
   "source": [
    "wednesday exercises\n"
   ]
  },
  {
   "cell_type": "code",
   "execution_count": 13,
   "id": "5e29ec6f",
   "metadata": {},
   "outputs": [
    {
     "name": "stdout",
     "output_type": "stream",
     "text": [
      "digite um numero100\n",
      "equal to 100\n"
     ]
    }
   ],
   "source": [
    "n1 = int(input(\"digite um numero\"))\n",
    "if n1 < 100:\n",
    "    print(\"lower than 100\")\n",
    "elif n1 == 100:\n",
    "    print(\"equal to 100\")\n",
    "else:\n",
    "    print(\"higher than 100\")"
   ]
  },
  {
   "cell_type": "code",
   "execution_count": 21,
   "id": "a4985d1b",
   "metadata": {},
   "outputs": [
    {
     "name": "stdout",
     "output_type": "stream",
     "text": [
      "lower\n"
     ]
    }
   ],
   "source": [
    "x, y = 5, 10\n",
    "if x > y:\n",
    "    print(\"greater\")\n",
    "elif x < y:\n",
    "    print(\"lower\")"
   ]
  },
  {
   "cell_type": "markdown",
   "id": "1d5c6cbe",
   "metadata": {},
   "source": [
    "# thursday exercises"
   ]
  },
  {
   "cell_type": "code",
   "execution_count": 1,
   "id": "61575d80",
   "metadata": {},
   "outputs": [
    {
     "name": "stdout",
     "output_type": "stream",
     "text": [
      "Hello John\n"
     ]
    }
   ],
   "source": [
    "name = \"John\"\n",
    "if name == \"Jack\":\n",
    "    print(\"Hello Jack\")\n",
    "else:\n",
    "    print(\"Hello {}\".format(name))"
   ]
  },
  {
   "cell_type": "code",
   "execution_count": null,
   "id": "89169792",
   "metadata": {},
   "outputs": [],
   "source": [
    "time = input(\"quais horas são neste modelo 00:00?\")\n",
    "hora = int(time[:2])\n",
    "minuto = time[1:]\n",
    "print(minuto)\n",
    "#if len(time) != 5:\n",
    " #   print(\"Qual parte do vc tem que digitar a hora assim 12:34 vc não entendeu?\")\n",
    "\n",
    "#print(time[2])"
   ]
  },
  {
   "cell_type": "code",
   "execution_count": 3,
   "id": "f2135555",
   "metadata": {},
   "outputs": [
    {
     "name": "stdout",
     "output_type": "stream",
     "text": [
      "quais horas são neste modelo 23:59?15:33\n",
      "Good Afternoon\n"
     ]
    }
   ],
   "source": [
    "\n",
    "time = input(\"quais horas são neste modelo 23:59?\")\n",
    "\n",
    "def  testeValorValido(time):\n",
    "    hora = int(time[:2])\n",
    "    minuto = int(time[3:])\n",
    "    if len(time) != 5:\n",
    "        print(\"Qual parte do vc tem que digitar a hora assim 12:34 vc não entendeu?\")\n",
    "    elif time[2] != \":\":\n",
    "        print(\"vc deve digitar : entre a hora e os minutos\")\n",
    "    elif minuto > 59:\n",
    "        print(\"Digite um valor entre 00 e 59\")\n",
    "    else:\n",
    "        printHora(hora)\n",
    "    \n",
    "def printHora(hora):\n",
    "    if hora > 24:\n",
    "        print(\"one day just has 24 hours, you stupid\")\n",
    "    elif hora > 17:\n",
    "        print(\"Good Evening\")\n",
    "    elif hora > 11:\n",
    "        print(\"Good Afternoon\")\n",
    "    elif hora > 5:\n",
    "        print(\"Good Morning\")\n",
    "    else:\n",
    "        print(\"Good Night\")\n",
    "\n",
    "try:\n",
    "    hora = int(time[:2])\n",
    "    minuto = int(time[3:])\n",
    "    testeValorValido(time)\n",
    "except ValueError:\n",
    "    print(\"digite horas com números, não com caracteres\")        \n"
   ]
  },
  {
   "cell_type": "markdown",
   "id": "51cd1942",
   "metadata": {},
   "source": [
    "# friday project: creating a calculator \n"
   ]
  },
  {
   "cell_type": "code",
   "execution_count": 14,
   "id": "5848a7fc",
   "metadata": {
    "scrolled": true
   },
   "outputs": [
    {
     "name": "stdout",
     "output_type": "stream",
     "text": [
      "Would you like to add/subtract/multiply/divide?multiply\n",
      "You  chose multiply.\n"
     ]
    }
   ],
   "source": [
    "# step 1: ask user for calculation to bo performed\n",
    "operation = input(\"Would you like to add/subtract/multiply/divide?\").lower()\n",
    "print(\"You  chose {}.\".format(operation)) # for testing purposes"
   ]
  },
  {
   "cell_type": "code",
   "execution_count": 15,
   "id": "8ac123b0",
   "metadata": {},
   "outputs": [
    {
     "name": "stdout",
     "output_type": "stream",
     "text": [
      "What is the first number?9\n",
      "What is the second number?9\n",
      "First Number: 9\n",
      "Second Number: 9\n"
     ]
    }
   ],
   "source": [
    "# step 2: ask for numbers, alert order matters for subtracting and dividing\n",
    "if operation == \"subtract\" or operation == \"divide\":\n",
    "    print(\"You chose {}.\".format(operation))\n",
    "    print(\"please keep in mind that the order of your numbers matter.\")\n",
    "num1 = input(\"What is the first number?\")\n",
    "num2 = input(\"What is the second number?\")\n",
    "print(\"First Number: {}\".format(num1)) # for testing purposes\n",
    "print(\"Second Number: {}\".format(num2)) # for testing purposes"
   ]
  },
  {
   "cell_type": "code",
   "execution_count": 16,
   "id": "81470d9c",
   "metadata": {},
   "outputs": [
    {
     "name": "stdout",
     "output_type": "stream",
     "text": [
      "9.0 * 9.0 = 81.0\n"
     ]
    }
   ],
   "source": [
    "# step 3: setup try/except for matematical operation\n",
    "try:\n",
    "    #step 3a: immediately try to convert numbers input to floats\n",
    "    num1, num2 = float(num1), float(num2)\n",
    "    # step 3b: perform operation and print result\n",
    "    if operation == \"add\":\n",
    "        result = num1 + num2\n",
    "        print(\"{} + {} = {}\".format(num1, num2, result))\n",
    "    elif operation == \"subtract\":\n",
    "        result = num1 - num2\n",
    "        print(\"{} - {} = {}\".format(num1, num2, result))\n",
    "    elif operation == \"multiply\":\n",
    "        result = num1 * num2\n",
    "        print(\"{} * {} = {}\".format(num1, num2, result))\n",
    "    elif operation == \"divide\":\n",
    "        result == num1 / num2\n",
    "        print(\"{} / {} = {}\".format(num1, num2, result))\n",
    "    else:\n",
    "        # else will be hit if they didnt chose an opition correctly\n",
    "        print(\"Sorry, but '{}' is not an option.\".format(operation))\n",
    "except:\n",
    "    #steb 3c: print error\n",
    "    print(\"Error: Improper numbers used. Please try again\")"
   ]
  },
  {
   "cell_type": "code",
   "execution_count": 18,
   "id": "43f1f33a",
   "metadata": {},
   "outputs": [
    {
     "name": "stdout",
     "output_type": "stream",
     "text": [
      "Would you like to add/subtract/multiply/divide?add\n",
      "You  chose add.\n",
      "What is the first number?999\n",
      "What is the second number?1\n",
      "First Number: 999\n",
      "Second Number: 1\n",
      "999.0 + 1.0 = 1000.0\n"
     ]
    }
   ],
   "source": [
    "# step 1: ask user for calculation to bo performed\n",
    "operation = input(\"Would you like to add/subtract/multiply/divide?\").lower()\n",
    "print(\"You  chose {}.\".format(operation)) # for testing purposes\n",
    "\n",
    "# step 2: ask for numbers, alert order matters for subtracting and dividing\n",
    "if operation == \"subtract\" or operation == \"divide\":\n",
    "    print(\"You chose {}.\".format(operation))\n",
    "    print(\"please keep in mind that the order of your numbers matter.\")\n",
    "num1 = input(\"What is the first number?\")\n",
    "num2 = input(\"What is the second number?\")\n",
    "print(\"First Number: {}\".format(num1)) # for testing purposes\n",
    "print(\"Second Number: {}\".format(num2)) # for testing purposes\n",
    "\n",
    "# step 3: setup try/except for matematical operation\n",
    "try:\n",
    "    #step 3a: immediately try to convert numbers input to floats\n",
    "    num1, num2 = float(num1), float(num2)\n",
    "    # step 3b: perform operation and print result\n",
    "    if operation == \"add\":\n",
    "        result = num1 + num2\n",
    "        print(\"{} + {} = {}\".format(num1, num2, result))\n",
    "    elif operation == \"subtract\":\n",
    "        result = num1 - num2\n",
    "        print(\"{} - {} = {}\".format(num1, num2, result))\n",
    "    elif operation == \"multiply\":\n",
    "        result = num1 * num2\n",
    "        print(\"{} * {} = {}\".format(num1, num2, result))\n",
    "    elif operation == \"divide\":\n",
    "        result == num1 / num2\n",
    "        print(\"{} / {} = {}\".format(num1, num2, result))\n",
    "    else:\n",
    "        # else will be hit if they didnt chose an opition correctly\n",
    "        print(\"Sorry, but '{}' is not an option.\".format(operation))\n",
    "except:\n",
    "    #steb 3c: print error\n",
    "    print(\"Error: Improper numbers used. Please try again\")"
   ]
  },
  {
   "cell_type": "markdown",
   "id": "7e383e9a",
   "metadata": {},
   "source": [
    "# weekle challenges"
   ]
  },
  {
   "cell_type": "code",
   "execution_count": 23,
   "id": "c8ffc85d",
   "metadata": {},
   "outputs": [
    {
     "name": "stdout",
     "output_type": "stream",
     "text": [
      "whats you age?2010\n",
      "Senior\n"
     ]
    }
   ],
   "source": [
    "age = int(input(\"whats you age?\"))\n",
    "try:\n",
    "    if age > 64:\n",
    "        print(\"Senior\")\n",
    "    elif age > 30:\n",
    "        print(\"Adult\")\n",
    "    elif age > 19:\n",
    "        print(\"Young Adult\")\n",
    "    elif age > 13:\n",
    "        print(\"Teenager\")\n",
    "    else:\n",
    "        print(\"kid\")\n",
    "except:\n",
    "    print(\"enter a valid value int\")"
   ]
  },
  {
   "cell_type": "code",
   "execution_count": null,
   "id": "21564b5a",
   "metadata": {},
   "outputs": [],
   "source": []
  }
 ],
 "metadata": {
  "kernelspec": {
   "display_name": "Python 3 (ipykernel)",
   "language": "python",
   "name": "python3"
  },
  "language_info": {
   "codemirror_mode": {
    "name": "ipython",
    "version": 3
   },
   "file_extension": ".py",
   "mimetype": "text/x-python",
   "name": "python",
   "nbconvert_exporter": "python",
   "pygments_lexer": "ipython3",
   "version": "3.11.4"
  }
 },
 "nbformat": 4,
 "nbformat_minor": 5
}
