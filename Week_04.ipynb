{
 "cells": [
  {
   "cell_type": "markdown",
   "id": "3076399e",
   "metadata": {},
   "source": [
    "# Lists\n"
   ]
  },
  {
   "cell_type": "code",
   "execution_count": 1,
   "id": "0c523846",
   "metadata": {},
   "outputs": [
    {
     "name": "stdout",
     "output_type": "stream",
     "text": [
      "[5, 10, 15.2, 20]\n"
     ]
    }
   ],
   "source": [
    "# declaring a list of numbers\n",
    "nums = [5, 10, 15.2, 20]\n",
    "print(nums)"
   ]
  },
  {
   "cell_type": "code",
   "execution_count": 3,
   "id": "0da850df",
   "metadata": {},
   "outputs": [
    {
     "name": "stdout",
     "output_type": "stream",
     "text": [
      "10\n",
      "15.2\n"
     ]
    }
   ],
   "source": [
    "# accessing elements within a list\n",
    "print(nums[1]) # will output the value at index 1 = 10\n",
    "num = nums[2] #m saves index value 2 into num\n",
    "print(num) # prints value assigned to num "
   ]
  },
  {
   "cell_type": "code",
   "execution_count": 4,
   "id": "6cc13456",
   "metadata": {},
   "outputs": [
    {
     "name": "stdout",
     "output_type": "stream",
     "text": [
      "[4.3, 'word', True]\n"
     ]
    }
   ],
   "source": [
    "# declaring a list of mixed data types\n",
    "num = 4.3\n",
    "data = [num, \"word\", True] # the power of data collection\n",
    "print(data)"
   ]
  },
  {
   "cell_type": "code",
   "execution_count": 5,
   "id": "6bbb2911",
   "metadata": {},
   "outputs": [
    {
     "name": "stdout",
     "output_type": "stream",
     "text": [
      "[5, 'book', [34, 'Hello'], True]\n",
      "[34, 'Hello']\n"
     ]
    }
   ],
   "source": [
    "# understanding lists within lists\n",
    "data = [5, \"book\", [34, \"Hello\"], True] # lists can hold any type\n",
    "print(data)\n",
    "print(data[2])"
   ]
  },
  {
   "cell_type": "code",
   "execution_count": 6,
   "id": "e6a76c98",
   "metadata": {},
   "outputs": [
    {
     "name": "stdout",
     "output_type": "stream",
     "text": [
      "34\n",
      "Hello\n"
     ]
    }
   ],
   "source": [
    "# using double bracket notation to access lists within lists\n",
    "print( data[2][0] ) # will output 34\n",
    "inner_list = data[2] # inner list will equal [34, 'hello']\n",
    "print( inner_list[1] ) # will output 'hello'"
   ]
  },
  {
   "cell_type": "code",
   "execution_count": 1,
   "id": "d45a09b4",
   "metadata": {},
   "outputs": [
    {
     "name": "stdout",
     "output_type": "stream",
     "text": [
      "[5, 10, 15, 20]\n",
      "[100, 10, 15, 20]\n"
     ]
    }
   ],
   "source": [
    "# changing values in a list through index\n",
    "data = [5, 10, 15, 20]\n",
    "print(data)\n",
    "data[0] = 100 # change the value at index 0 - (5 to 100)\n",
    "print(data)\n"
   ]
  },
  {
   "cell_type": "code",
   "execution_count": 2,
   "id": "c9d4d7b4",
   "metadata": {},
   "outputs": [
    {
     "name": "stdout",
     "output_type": "stream",
     "text": [
      "1583766553664\n"
     ]
    }
   ],
   "source": [
    "a = [5, 10]\n",
    "print(id(a))"
   ]
  },
  {
   "cell_type": "code",
   "execution_count": 7,
   "id": "a58a124b",
   "metadata": {},
   "outputs": [
    {
     "name": "stdout",
     "output_type": "stream",
     "text": [
      "a: [5, 10]\t b: [5, 10]\n",
      "Location a[0]: 140705311921064\t Location b[0]: 140705311921064\n",
      "a: [20, 10]\t b: [20, 10]\n"
     ]
    }
   ],
   "source": [
    "# understanding how lists are stored\n",
    "a = [5, 10]\n",
    "b = a\n",
    "print(\"a: {}\\t b: {}\".format(a, b))\n",
    "print(\"Location a[0]: {}\\t Location b[0]: {}\".format(id(a[0]), id(b[0])))\n",
    "a[0] = 20\n",
    "print(\"a: {}\\t b: {}\".format(a,b))"
   ]
  },
  {
   "cell_type": "code",
   "execution_count": 8,
   "id": "f334896d",
   "metadata": {},
   "outputs": [
    {
     "name": "stdout",
     "output_type": "stream",
     "text": [
      "[4, 2, 3] Muro\n"
     ]
    }
   ],
   "source": [
    "a, b = [1, 2, 3], \"Muro\"\n",
    "c = a\n",
    "d = b\n",
    "c[0] = 4\n",
    "d = \"parece\"\n",
    "print(a, b)"
   ]
  },
  {
   "cell_type": "code",
   "execution_count": 2,
   "id": "8600b73c",
   "metadata": {},
   "outputs": [
    {
     "name": "stdout",
     "output_type": "stream",
     "text": [
      "data: [50, 10, 15, 20]\t data_copy: [5, 10, 15, 20]\n"
     ]
    }
   ],
   "source": [
    "# using [:] to copy a list\n",
    "data = [5, 10, 15, 20]\n",
    "data_copy = data[:] # a single colon copies the list\n",
    "data[0] = 50\n",
    "print(\"data: {}\\t data_copy: {}\".format(data, data_copy))"
   ]
  },
  {
   "cell_type": "markdown",
   "id": "913e15ea",
   "metadata": {},
   "source": [
    "# monday exercises"
   ]
  },
  {
   "cell_type": "code",
   "execution_count": 4,
   "id": "6f24498d",
   "metadata": {},
   "outputs": [
    {
     "name": "stdout",
     "output_type": "stream",
     "text": [
      "I like to play futebol\n",
      "I like to play volei\n",
      "I like to play basquete\n",
      "I like to play BJJ\n",
      "I like to play Boxe\n",
      "I like to play pingpong\n"
     ]
    }
   ],
   "source": [
    "sports = [\"futebol\", \"volei\", \"basquete\", \"BJJ\", \"Boxe\", \"pingpong\"]\n",
    "for i in range(len(sports)):\n",
    "    print(\"I like to play {}\".format(sports[i]))\n"
   ]
  },
  {
   "cell_type": "code",
   "execution_count": 17,
   "id": "a1e1c251",
   "metadata": {
    "scrolled": true
   },
   "outputs": [
    {
     "name": "stdout",
     "output_type": "stream",
     "text": [
      "['J', 'o', 'h', 'n']\n",
      "['J', 'A', 'S', 'K']\n"
     ]
    }
   ],
   "source": [
    "names = [\"John\", \"Abraham\", \"Sam\", \"Kelly\"]\n",
    "name = names[0]\n",
    "output = []\n",
    "output2 = []\n",
    "for i in range(len(name)):\n",
    "    output.append(name[i])\n",
    "print(output)\n",
    "for i in range(len(names)):\n",
    "    output2.append(names[i][0])\n",
    "print(output2)"
   ]
  },
  {
   "cell_type": "markdown",
   "id": "1156702d",
   "metadata": {},
   "source": [
    "# For Loops\n"
   ]
  },
  {
   "cell_type": "code",
   "execution_count": 18,
   "id": "0ab3d385",
   "metadata": {},
   "outputs": [
    {
     "name": "stdout",
     "output_type": "stream",
     "text": [
      "Value: 0\n",
      "Value: 1\n",
      "Value: 2\n",
      "Value: 3\n",
      "Value: 4\n"
     ]
    }
   ],
   "source": [
    "# whiting your first for loop using range\n",
    "for num in range(5):\n",
    "    print(\"Value: {}\".format(num))"
   ]
  },
  {
   "cell_type": "code",
   "execution_count": 19,
   "id": "cc580c10",
   "metadata": {},
   "outputs": [
    {
     "name": "stdout",
     "output_type": "stream",
     "text": [
      "Value: 2\n",
      "Value: 4\n",
      "Value: 6\n",
      "Value: 8\n"
     ]
    }
   ],
   "source": [
    "#providing the start, stop, and step for range function\n",
    "for num in range(2, 10, 2):\n",
    "    print(\"Value: {}\".format(num)) # will print all evens between 2 and 10"
   ]
  },
  {
   "cell_type": "code",
   "execution_count": 20,
   "id": "a552cc93",
   "metadata": {},
   "outputs": [
    {
     "name": "stdout",
     "output_type": "stream",
     "text": [
      "Value: J\n",
      "Value: o\n",
      "Value: h\n",
      "Value: n\n",
      "Value:  \n",
      "Value: S\n",
      "Value: m\n",
      "Value: i\n",
      "Value: t\n",
      "Value: h\n"
     ]
    }
   ],
   "source": [
    "# printing all characters in a name using the 'in' keyword\n",
    "name = \"John Smith\"\n",
    "for letter in name:\n",
    "    print(\"Value: {}\".format(letter))"
   ]
  },
  {
   "cell_type": "code",
   "execution_count": 21,
   "id": "d7600c6f",
   "metadata": {},
   "outputs": [
    {
     "name": "stdout",
     "output_type": "stream",
     "text": [
      "0\n",
      "1\n",
      "2\n",
      "4\n"
     ]
    }
   ],
   "source": [
    "# using the continue statement within a foor loop\n",
    "for num in range(5):\n",
    "    if num == 3:\n",
    "        continue\n",
    "    print(num)"
   ]
  },
  {
   "cell_type": "code",
   "execution_count": 30,
   "id": "3767cc8a",
   "metadata": {},
   "outputs": [],
   "source": [
    "#setting a placeholder using the 'pass' keyword\n",
    "for i in range(5):\n",
    "    pass"
   ]
  },
  {
   "cell_type": "markdown",
   "id": "a6475309",
   "metadata": {},
   "source": [
    "# Tuesday exercises\n"
   ]
  },
  {
   "cell_type": "code",
   "execution_count": 43,
   "id": "24506811",
   "metadata": {},
   "outputs": [
    {
     "name": "stdout",
     "output_type": "stream",
     "text": [
      "3\n",
      "6\n",
      "9\n",
      "12\n",
      "15\n",
      "18\n",
      "21\n",
      "24\n",
      "27\n",
      "30\n",
      "33\n",
      "36\n",
      "39\n",
      "42\n",
      "45\n",
      "48\n",
      "51\n",
      "54\n",
      "57\n",
      "60\n",
      "63\n",
      "66\n",
      "69\n",
      "72\n",
      "75\n",
      "78\n",
      "81\n",
      "84\n",
      "87\n",
      "90\n",
      "93\n",
      "96\n",
      "99\n"
     ]
    }
   ],
   "source": [
    "for i in range(1, 101):\n",
    "    if i % 3 == 0:\n",
    "        print(i)"
   ]
  },
  {
   "cell_type": "code",
   "execution_count": 48,
   "id": "86e843b9",
   "metadata": {},
   "outputs": [
    {
     "name": "stdout",
     "output_type": "stream",
     "text": [
      "escreva uma palavrafeminismo e cancer\n",
      "['e', 'i', 'i', 'o', 'e', 'a', 'e']\n"
     ]
    }
   ],
   "source": [
    "palavra = input(\"escreva uma palavra\")\n",
    "vowels = []\n",
    "for i in range(len(palavra)):\n",
    "    if palavra[i] == \"a\":\n",
    "        vowels.append(\"a\")\n",
    "    elif palavra[i] ==\"e\":\n",
    "        vowels.append(\"e\")\n",
    "    elif palavra[i] ==\"i\":\n",
    "        vowels.append(\"i\")\n",
    "    elif palavra[i] ==\"o\":\n",
    "        vowels.append(\"o\")\n",
    "    elif palavra[i] ==\"u\":\n",
    "        vowels.append(\"u\")\n",
    "print(vowels)"
   ]
  },
  {
   "cell_type": "markdown",
   "id": "1c7bd03c",
   "metadata": {},
   "source": [
    "# While Loops\n"
   ]
  },
  {
   "cell_type": "code",
   "execution_count": 2,
   "id": "4bd291ea",
   "metadata": {},
   "outputs": [
    {
     "name": "stdout",
     "output_type": "stream",
     "text": [
      "10\n",
      "9\n",
      "8\n",
      "7\n",
      "6\n",
      "5\n",
      "4\n",
      "3\n",
      "2\n",
      "1\n"
     ]
    }
   ],
   "source": [
    "# writing your first loop\n",
    "health = 10\n",
    "while health > 0:\n",
    "    print(health)\n",
    "    health -=1 # forgetting this line will result in infinite loop"
   ]
  },
  {
   "cell_type": "code",
   "execution_count": 1,
   "id": "471f9745",
   "metadata": {},
   "outputs": [
    {
     "name": "stdout",
     "output_type": "stream",
     "text": [
      "0 0\n",
      "0 1\n",
      "0 2\n",
      "1 0\n",
      "1 1\n",
      "1 2\n"
     ]
    }
   ],
   "source": [
    "# using two or more loops together is called a nested loop\n",
    "for i in range(2): # outside loop\n",
    "    for j in range(3): # inside loop\n",
    "        print( i, j )"
   ]
  },
  {
   "cell_type": "markdown",
   "id": "cf2062bd",
   "metadata": {},
   "source": [
    "# wednesday Exercises"
   ]
  },
  {
   "cell_type": "code",
   "execution_count": null,
   "id": "3e7d4534",
   "metadata": {},
   "outputs": [],
   "source": [
    "palavra = None\n",
    "while palavra != \"quit\":\n",
    "    palavra = input(\"digite uma palavra\")"
   ]
  },
  {
   "cell_type": "code",
   "execution_count": 11,
   "id": "0035148a",
   "metadata": {},
   "outputs": [
    {
     "name": "stdout",
     "output_type": "stream",
     "text": [
      "0\n",
      "1\n",
      "2\n"
     ]
    }
   ],
   "source": [
    "game_over = False\n",
    "while game_over != True:\n",
    "    for i in range(6):\n",
    "        if i == 3:\n",
    "            game_over = True\n",
    "            break\n",
    "        else:\n",
    "            print(i)"
   ]
  },
  {
   "cell_type": "markdown",
   "id": "bc415548",
   "metadata": {},
   "source": [
    "# working with lists\n"
   ]
  },
  {
   "cell_type": "code",
   "execution_count": 1,
   "id": "318ef9db",
   "metadata": {},
   "outputs": [
    {
     "name": "stdout",
     "output_type": "stream",
     "text": [
      "3\n"
     ]
    }
   ],
   "source": [
    "# checking the numbers of items within a list\n",
    "nums = [5, 10, 15]\n",
    "length = len(nums) # len() returns an interger\n",
    "print(length)"
   ]
  },
  {
   "cell_type": "code",
   "execution_count": 2,
   "id": "de28dfe1",
   "metadata": {},
   "outputs": [
    {
     "name": "stdout",
     "output_type": "stream",
     "text": [
      "[10, 15]\n",
      "[5, 10]\n",
      "[5, 15]\n",
      "[10, 15]\n"
     ]
    }
   ],
   "source": [
    "# acessing specific items of a list with slices\n",
    "print(nums[1:3]) # will output items in index 1 and 2\n",
    "print(nums[:2]) # will output items in index 0 and 1\n",
    "print(nums[::2]) # will print every other index - 0, 2, 4, etc.\n",
    "print(nums[-2:]) # will output the last two items in list"
   ]
  },
  {
   "cell_type": "code",
   "execution_count": 1,
   "id": "cabb4af3",
   "metadata": {},
   "outputs": [
    {
     "name": "stdout",
     "output_type": "stream",
     "text": [
      "[10, 20, 5]\n"
     ]
    }
   ],
   "source": [
    "# adding an item to the back of a list using append\n",
    "nums = [10, 20]\n",
    "nums.append(5)\n",
    "print(nums) # outputs [10, 20, 5]"
   ]
  },
  {
   "cell_type": "code",
   "execution_count": 7,
   "id": "58ea8fd4",
   "metadata": {},
   "outputs": [
    {
     "name": "stdout",
     "output_type": "stream",
     "text": [
      "5 \n",
      " ['ball']\n"
     ]
    }
   ],
   "source": [
    "# using pop to remove items and saving to a variable to use later\n",
    "items = [5, \"ball\", True]\n",
    "items.pop() # by default removes the last item\n",
    "removed_item = items.pop(0)\n",
    "print(removed_item, \"\\n\", items)"
   ]
  },
  {
   "cell_type": "code",
   "execution_count": 1,
   "id": "cf5e35ca",
   "metadata": {},
   "outputs": [
    {
     "name": "stdout",
     "output_type": "stream",
     "text": [
      "['baseball', 'football', 'hockey']\n"
     ]
    }
   ],
   "source": [
    "# using the remove method with a try and except\n",
    "sports = [\"baseball\", \"soccer\", \"football\", \"hockey\"]\n",
    "try:\n",
    "    sports.remove(\"soccer\")\n",
    "except:\n",
    "    print(\"That item does not exist in the list\")\n",
    "print(sports)"
   ]
  },
  {
   "cell_type": "code",
   "execution_count": 2,
   "id": "9075fd4b",
   "metadata": {},
   "outputs": [
    {
     "name": "stdout",
     "output_type": "stream",
     "text": [
      "3\n",
      "9\n",
      "17\n"
     ]
    }
   ],
   "source": [
    "# using min, max, and sum\n",
    "nums = [5, 3, 9]\n",
    "print(min(nums)) # will find the lowest number in the list\n",
    "print(max(nums)) # will find the highest number in the list\n",
    "print(sum(nums)) # will add all numbers in the list and return the sum"
   ]
  },
  {
   "cell_type": "code",
   "execution_count": 4,
   "id": "3939e8fd",
   "metadata": {},
   "outputs": [
    {
     "name": "stdout",
     "output_type": "stream",
     "text": [
      "[5, 8, 0, 2] [0, 2, 5, 8]\n"
     ]
    }
   ],
   "source": [
    "# using sorted on lists for numerical and alphabetical data\n",
    "nums = [5, 8, 0, 2]\n",
    "sorted_nums = sorted(nums)\n",
    "print(nums, sorted_nums)"
   ]
  },
  {
   "cell_type": "code",
   "execution_count": 5,
   "id": "d428751c",
   "metadata": {},
   "outputs": [
    {
     "name": "stdout",
     "output_type": "stream",
     "text": [
      "[0, 3, 5, 8]\n"
     ]
    }
   ],
   "source": [
    "# sorting a list with .sort() in-place\n",
    "nums = [5, 0, 8, 3]\n",
    "nums.sort() # alters the original varieble directly\n",
    "print(nums)"
   ]
  },
  {
   "cell_type": "code",
   "execution_count": 6,
   "id": "e10110d1",
   "metadata": {},
   "outputs": [
    {
     "name": "stdout",
     "output_type": "stream",
     "text": [
      "found\n",
      "not found\n"
     ]
    }
   ],
   "source": [
    "# using conditional statements on a list\n",
    "names = [\"Jack\", \"Robert\", \"Mary\"]\n",
    "if \"Mary\" in names:\n",
    "    print(\"found\")\n",
    "if \"Jimmy\" not in names:\n",
    "    print(\"not found\")"
   ]
  },
  {
   "cell_type": "code",
   "execution_count": 7,
   "id": "a1dcc171",
   "metadata": {},
   "outputs": [
    {
     "name": "stdout",
     "output_type": "stream",
     "text": [
      "empty\n"
     ]
    }
   ],
   "source": [
    "#using conditionals to see if a list is empty\n",
    "nums = []\n",
    "if not nums: # could also say ' if nums == []'\n",
    "    print(\"empty\")"
   ]
  },
  {
   "cell_type": "code",
   "execution_count": 8,
   "id": "ec67efba",
   "metadata": {},
   "outputs": [
    {
     "name": "stdout",
     "output_type": "stream",
     "text": [
      "Baseball\n",
      "Hockey\n",
      "Football\n",
      "Basketball\n"
     ]
    }
   ],
   "source": [
    "# using a for loop to print all items in a list\n",
    "sports = [\"Baseball\", \"Hockey\", \"Football\", \"Basketball\"]\n",
    "for i in sports:\n",
    "    print(i)"
   ]
  },
  {
   "cell_type": "code",
   "execution_count": 9,
   "id": "6af97227",
   "metadata": {},
   "outputs": [
    {
     "name": "stdout",
     "output_type": "stream",
     "text": [
      "['Jack', 'Rob', 'Robert']\n"
     ]
    }
   ],
   "source": [
    "# using the while loop to remove a certain value\n",
    "names = [\"Bob\", \"Jack\", \"Rob\", \"Bob\", \"Robert\"]\n",
    "while \"Bob\" in names:\n",
    "    names.remove(\"Bob\") # removes all instances of 'Bob'\n",
    "print(names)"
   ]
  },
  {
   "cell_type": "markdown",
   "id": "bffd1808",
   "metadata": {},
   "source": [
    "# Thursday Exercises"
   ]
  },
  {
   "cell_type": "code",
   "execution_count": 22,
   "id": "9687217f",
   "metadata": {},
   "outputs": [
    {
     "name": "stdout",
     "output_type": "stream",
     "text": [
      "['Bob', 'Kenny', 'Amanda', 'Bob', 'Kenny']\n"
     ]
    }
   ],
   "source": [
    "names = [\"Bob\", \"Kenny\", \"Amanda\", \"Bob\", \"Kenny\"]\n",
    "unique_names = []\n",
    "for name in names:\n",
    "    if name not in unique_names:\n",
    "        unique_names.append(name)\n",
    "print(unique_names)"
   ]
  },
  {
   "cell_type": "code",
   "execution_count": 23,
   "id": "38ead2c0",
   "metadata": {},
   "outputs": [
    {
     "name": "stdout",
     "output_type": "stream",
     "text": [
      "['Bob', 'Kenny', 'Amanda']\n"
     ]
    }
   ],
   "source": [
    "names = [\"Bob\", \"Kenny\", \"Amanda\", \"Bob\", \"Kenny\"]\n",
    "unique_names = []\n",
    "\n",
    "for name in names:\n",
    "    if name not in unique_names:\n",
    "        unique_names.append(name)\n",
    "\n",
    "print(unique_names)"
   ]
  },
  {
   "cell_type": "code",
   "execution_count": null,
   "id": "b06473fa",
   "metadata": {},
   "outputs": [],
   "source": [
    "# Create an empty list to store the words\n",
    "word_list = []\n",
    "\n",
    "# Use a while loop to continuously ask for input\n",
    "while True:\n",
    "    word = input(\"Enter a word (or 'quit' to exit): \")\n",
    "    \n",
    "    if word.lower() == \"quit\":\n",
    "        break  # Exit the loop if the user enters \"quit\"\n",
    "    \n",
    "    # Add the word to the list\n",
    "    word_list.append(word)\n",
    "\n",
    "# Use a for loop to display all the words in the list\n",
    "print(\"Words entered:\")\n",
    "for word in word_list:\n",
    "    print(word)"
   ]
  },
  {
   "cell_type": "code",
   "execution_count": null,
   "id": "2846c46e",
   "metadata": {},
   "outputs": [],
   "source": [
    "\n",
    "names = [\"Bob\", \"Kenny\", \"Amanda\", \"Bob\", \"Kenny\"]\n",
    "\n",
    "for name in names:\n",
    "    while names.count(name) > 1:\n",
    "        names.remove(name)\n",
    "        \n",
    "print(names)\n"
   ]
  },
  {
   "cell_type": "code",
   "execution_count": null,
   "id": "90e432d0",
   "metadata": {},
   "outputs": [],
   "source": [
    "done = False\n",
    "words = []\n",
    "\n",
    "while done == False:\n",
    "    ans = input('Enter a word: ')\n",
    "    \n",
    "    if ans.lower() == 'quit':\n",
    "        done = True\n",
    "    else:\n",
    "        words.append(ans)\n",
    "        \n",
    "for word in words:\n",
    "    print(word)"
   ]
  },
  {
   "cell_type": "code",
   "execution_count": 1,
   "id": "58ff43af",
   "metadata": {},
   "outputs": [
    {
     "name": "stdout",
     "output_type": "stream",
     "text": [
      "4\n"
     ]
    }
   ],
   "source": [
    "a = 2 + 2\n",
    "print(a)"
   ]
  },
  {
   "cell_type": "markdown",
   "id": "00dd6685",
   "metadata": {},
   "source": [
    "# Friday: Creating Hangman\n"
   ]
  },
  {
   "cell_type": "code",
   "execution_count": null,
   "id": "0c181b55",
   "metadata": {},
   "outputs": [],
   "source": [
    "# import additional functions\n",
    "from random import choice\n",
    "from IPython.display import clear_output\n",
    "\n",
    "# declare game variebles\n",
    "words = [\"tree\", \"basket\", \"chair\", \"paper\", \"python\"]\n",
    "word = choice(words) # randomly chooses a word from words list\n",
    "guessed, lives, game_over = [], 7, False\n",
    "\n",
    "# create a list of underscores to the lenght of the word\n",
    "guesses = [\"_ \"] * len(word)\n",
    "\n",
    "# create main game loop\n",
    "while not game_over:\n",
    "    #output game information\n",
    "    hidden_word = \"\".join(guesses)\n",
    "    print(\"Your guessed letters: {}\".format(guessed))\n",
    "    print(\"Word to guess: {}\".format(hidden_word))\n",
    "    print(\"Lives: {}\".format(lives))\n",
    "    \n",
    "    ans = input(\"Type quit or guess a letter:\").lower()\n",
    "    \n",
    "    clear_output()\n",
    "    \n",
    "    if ans == \"quit\":\n",
    "        print(\"Thanks for playing.\")\n",
    "        game_over = True\n",
    "    elif ans in word and ans not in guessed:\n",
    "        print(\"You guessed correctly!\")\n",
    "        \n",
    "        # create a loop to change underscore to proper letter\n",
    "        for i in range(len(word)):\n",
    "            if word[i] == ans:\n",
    "                guesses[i] = ans\n",
    "    elif ans in guessed:\n",
    "        print(\"You alread guessed that. Try again.\")\n",
    "    else: # otherwise lose live\n",
    "        lives -= 1\n",
    "        print(\"Incorrect, you lost a life.\")\n",
    "        \n",
    "        if ans not in guessed:\n",
    "            guessed.append(ans) # add ans to guessed list\n",
    "        \n",
    "    if lives <= 0:\n",
    "        print(\"You lost all your lives, you lost!\")\n",
    "        game_over = True\n",
    "    elif word == \"\".join(guesses):\n",
    "        print(\"Congratulations, you guessed it correctly!\")\n",
    "        game_over = True"
   ]
  },
  {
   "cell_type": "code",
   "execution_count": null,
   "id": "0d72f181",
   "metadata": {},
   "outputs": [],
   "source": [
    "chars = ['h', 'e', 'l', 'l', 'o']\n",
    "print('n'.join(chars))\n"
   ]
  },
  {
   "cell_type": "markdown",
   "id": "6a9ce7b9",
   "metadata": {},
   "source": [
    "# Weekly Challenges\n"
   ]
  },
  {
   "cell_type": "code",
   "execution_count": 14,
   "id": "cb58956d",
   "metadata": {},
   "outputs": [
    {
     "name": "stdout",
     "output_type": "stream",
     "text": [
      "        X \n",
      "       X X \n",
      "      X X X \n",
      "     X X X X \n",
      "    X X X X X \n",
      "   X X X X X X \n",
      "  X X X X X X X \n",
      " X X X X X X X X \n",
      "X X X X X X X X X \n"
     ]
    }
   ],
   "source": [
    "def piramide(linhas):\n",
    "    for i in range(1, linhas + 1):\n",
    "        spaces = ' ' * (linhas - i)\n",
    "        xs = 'X ' * i\n",
    "        print(spaces + xs)\n",
    "\n",
    "piramide(9)"
   ]
  },
  {
   "cell_type": "code",
   "execution_count": 5,
   "id": "5925a69e",
   "metadata": {},
   "outputs": [
    {
     "name": "stdout",
     "output_type": "stream",
     "text": [
      "john\n",
      "nathan\n",
      "maria\n",
      "carlos\n",
      "pedro\n",
      "guilherme\n"
     ]
    }
   ],
   "source": [
    "names = ['john',3 , 'nathan',True ,'maria', 'carlos', 'pedro', 'guilherme']\n",
    "for i in range(len(names)):\n",
    "    if isinstance(names[i], str):\n",
    "        print(names[i])"
   ]
  },
  {
   "cell_type": "code",
   "execution_count": null,
   "id": "bac24bfa",
   "metadata": {},
   "outputs": [],
   "source": []
  }
 ],
 "metadata": {
  "kernelspec": {
   "display_name": "Python 3 (ipykernel)",
   "language": "python",
   "name": "python3"
  },
  "language_info": {
   "codemirror_mode": {
    "name": "ipython",
    "version": 3
   },
   "file_extension": ".py",
   "mimetype": "text/x-python",
   "name": "python",
   "nbconvert_exporter": "python",
   "pygments_lexer": "ipython3",
   "version": "3.11.4"
  }
 },
 "nbformat": 4,
 "nbformat_minor": 5
}
