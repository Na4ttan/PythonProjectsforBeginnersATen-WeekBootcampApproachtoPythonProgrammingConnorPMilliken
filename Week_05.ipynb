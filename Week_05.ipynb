{
 "cells": [
  {
   "cell_type": "code",
   "execution_count": 6,
   "id": "4601cfdb",
   "metadata": {},
   "outputs": [
    {
     "name": "stdout",
     "output_type": "stream",
     "text": [
      "Name: John Smith\n",
      "Age: 45\n",
      "Name: John Smith\n",
      "Age: 45\n"
     ]
    }
   ],
   "source": [
    "# writing your first function\n",
    "def printinfo():\n",
    "    print(\"Name: John Smith\")\n",
    "    print(\"Age: 45\")\n",
    "printinfo()\n",
    "printinfo()"
   ]
  },
  {
   "cell_type": "code",
   "execution_count": 1,
   "id": "948af12c",
   "metadata": {},
   "outputs": [
    {
     "name": "stdout",
     "output_type": "stream",
     "text": [
      "Your name is: John Smith\n",
      "Your name is: Amanda\n"
     ]
    }
   ],
   "source": [
    "# passing a single parameter into a function\n",
    "def printName(full_name):\n",
    "    print(\"Your name is: {}\".format(full_name))\n",
    "printName(\"John Smith\")\n",
    "printName(\"Amanda\")"
   ]
  },
  {
   "cell_type": "code",
   "execution_count": 8,
   "id": "ef150168",
   "metadata": {},
   "outputs": [
    {
     "name": "stdout",
     "output_type": "stream",
     "text": [
      "5 + 8 = 13\n",
      "3.5 + 5.5 = 9.0\n"
     ]
    }
   ],
   "source": [
    "# passing multiple parameters into a function\n",
    "def addNums(num1, num2):\n",
    "    result = num1 + num2\n",
    "    print( \"{} + {} = {}\".format(num1, num2, result) )\n",
    "addNums(5, 8) # will output 13\n",
    "addNums(3.5, 5.5) # will output 9.0"
   ]
  },
  {
   "cell_type": "code",
   "execution_count": 7,
   "id": "ca18ce0f",
   "metadata": {},
   "outputs": [
    {
     "name": "stdout",
     "output_type": "stream",
     "text": [
      "5 + 8 = 13\n",
      "3.5 + 5.5 = 9.0\n"
     ]
    }
   ],
   "source": [
    "# passing multiple parameters into a function\n",
    "def addNums(num1, num2):\n",
    "    result = num1 + num2\n",
    "    print(\"{} + {} = {}\".format(num1, num2, result))\n",
    "    \n",
    "addNums(5, 8)\n",
    "addNums(3.5, 5.5)"
   ]
  },
  {
   "cell_type": "code",
   "execution_count": 9,
   "id": "89e66ee7",
   "metadata": {},
   "outputs": [
    {
     "name": "stdout",
     "output_type": "stream",
     "text": [
      "4\n",
      "16\n",
      "16\n",
      "100\n",
      "1\n",
      "9\n",
      "36\n"
     ]
    }
   ],
   "source": [
    "# using a function to square all information\n",
    "numbers1 = [2, 4, 4, 10]\n",
    "numbers2 = [1, 3, 6]\n",
    "def squares(nums):\n",
    "    for num in nums:\n",
    "        print(num**2)\n",
    "squares(numbers1)\n",
    "squares(numbers2)"
   ]
  },
  {
   "cell_type": "code",
   "execution_count": 3,
   "id": "5fa06a3a",
   "metadata": {},
   "outputs": [
    {
     "name": "stdout",
     "output_type": "stream",
     "text": [
      "Area: 12.56\n"
     ]
    }
   ],
   "source": [
    "# setting default parameter values\n",
    "def calcArea(r, pi=3.14):\n",
    "    area = pi * (r**2)\n",
    "    print(\"Area: {}\".format(area))\n",
    "calcArea(2)    # assuming"
   ]
  },
  {
   "cell_type": "code",
   "execution_count": 4,
   "id": "11f20095",
   "metadata": {},
   "outputs": [
    {
     "name": "stdout",
     "output_type": "stream",
     "text": [
      "John Smith\n",
      "john Paul Smith\n"
     ]
    }
   ],
   "source": [
    "# setting default parameter values\n",
    "def printName(first, last, middle=\"\"):\n",
    "    if middle:\n",
    "        print(\"{} {} {}\".format(first, middle, last))\n",
    "    else:\n",
    "        print(\"{} {}\".format(first, last))\n",
    "printName(\"John\", \"Smith\")\n",
    "printName(\"john\", \"Smith\", \"Paul\") "
   ]
  },
  {
   "cell_type": "code",
   "execution_count": 1,
   "id": "7f863693",
   "metadata": {},
   "outputs": [
    {
     "name": "stdout",
     "output_type": "stream",
     "text": [
      "2.5\n",
      "5\n"
     ]
    }
   ],
   "source": [
    "# explicity assigning values to parameters by referencing the name \n",
    "def addNums(num1, num2):\n",
    "    print(num2)\n",
    "    print(num1)\n",
    "\n",
    "addNums(5, num2 = 2.5)"
   ]
  },
  {
   "cell_type": "code",
   "execution_count": 2,
   "id": "d2c96088",
   "metadata": {},
   "outputs": [
    {
     "name": "stdout",
     "output_type": "stream",
     "text": [
      "<class 'tuple'>\n",
      "5\n",
      "True\n",
      "Jess\n"
     ]
    }
   ],
   "source": [
    "# using args parameter to take in a tuple of arbitrary values\n",
    "def outputData(name, *args):\n",
    "    print(type(args))\n",
    "    for arg in args:\n",
    "        print(arg)\n",
    "        \n",
    "outputData(\"John Smith\", 5, True, \"Jess\")"
   ]
  },
  {
   "cell_type": "code",
   "execution_count": 3,
   "id": "5231002c",
   "metadata": {},
   "outputs": [
    {
     "name": "stdout",
     "output_type": "stream",
     "text": [
      "<class 'dict'>\n",
      "John Smith\n",
      "5\n"
     ]
    }
   ],
   "source": [
    "# using kwargs parameter to take in a dictionary of arbitrary values\n",
    "def outputData(**kwargs):\n",
    "    print(type(kwargs))\n",
    "    print(kwargs[\"name\"])\n",
    "    print(kwargs[\"num\"])\n",
    "\n",
    "outputData(name = \"John Smith\", num = 5, b = True)"
   ]
  },
  {
   "cell_type": "markdown",
   "id": "6375410d",
   "metadata": {},
   "source": [
    "# tuesday exercises"
   ]
  },
  {
   "cell_type": "code",
   "execution_count": 2,
   "id": "b2a6352a",
   "metadata": {},
   "outputs": [
    {
     "name": "stdout",
     "output_type": "stream",
     "text": [
      "insira uma palavraCaramelo\n",
      "True\n"
     ]
    }
   ],
   "source": [
    "'''\n",
    "User Input: Ask the user to input a word, and pass that word into a function\n",
    "that checks if the word starts with an uppercase. If it does output “True”,\n",
    "otherwise “False”.\n",
    "'''\n",
    "\n",
    "def checkFirstUppercase():\n",
    "    word = input(\"insira uma palavra\")\n",
    "    if word[0].isupper():\n",
    "        print(True)\n",
    "    else:\n",
    "        print(False)\n",
    "\n",
    "checkFirstUppercase()"
   ]
  },
  {
   "cell_type": "code",
   "execution_count": 4,
   "id": "4cdf3a64",
   "metadata": {},
   "outputs": [
    {
     "name": "stdout",
     "output_type": "stream",
     "text": [
      "No name passed in\n",
      "Natan Sabino\n"
     ]
    }
   ],
   "source": [
    "'''\n",
    "No Name: Define a function that takes in two arguments, first_name and last_\n",
    "name, and makes both optional. If no values are passed into the parameters, it\n",
    "should output “No name passed in”; otherwise, it should print out the name.\n",
    "'''\n",
    "def fullname(firstname=\"\", lastname=\"\"):\n",
    "    if firstname == \"\" and lastname == \"\":\n",
    "        print(\"No name passed in\")\n",
    "    else:\n",
    "        print(firstname + \" \" + lastname)\n",
    "        \n",
    "fullname()\n",
    "fullname(\"Natan\", \"Sabino\")"
   ]
  },
  {
   "cell_type": "code",
   "execution_count": 5,
   "id": "f0334ea3",
   "metadata": {},
   "outputs": [
    {
     "name": "stdout",
     "output_type": "stream",
     "text": [
      "insira o nomecaramelo\n",
      "insira o sobrenomesabino\n",
      "caramelo sabino\n"
     ]
    }
   ],
   "source": [
    "'''modificada, teste'''\n",
    "pnome = input(\"insira o nome\")\n",
    "unome = input(\"insira o sobrenome\")\n",
    "\n",
    "def fullname(firstname=\"\", lastname=\"\"):\n",
    "    if firstname == \"\" and lastname == \"\":\n",
    "        print(\"No name passed in\")\n",
    "    else:\n",
    "        print(firstname + \" \" + lastname)\n",
    "        \n",
    "fullname(pnome, unome)"
   ]
  },
  {
   "cell_type": "markdown",
   "id": "42543793",
   "metadata": {},
   "source": [
    "# Wednesday\n"
   ]
  },
  {
   "cell_type": "code",
   "execution_count": 9,
   "id": "f85eb2c6",
   "metadata": {},
   "outputs": [],
   "source": [
    "def returnMultiple():\n",
    "    a = 5\n",
    "    b = 10\n",
    "    return [a,b] #one data type holding multiple items"
   ]
  },
  {
   "cell_type": "code",
   "execution_count": 10,
   "id": "46e5aa3f",
   "metadata": {},
   "outputs": [
    {
     "name": "stdout",
     "output_type": "stream",
     "text": [
      "10.0\n",
      "20\n"
     ]
    }
   ],
   "source": [
    "# using return keyword to return the sum of two numbers\n",
    "\n",
    "def addNums(num1, num2):\n",
    "    return num1 + num2\n",
    "num = addNums(5.5, 4.5)    #saves returned value into num\n",
    "print(num)\n",
    "print( addNums(10, 10))"
   ]
  },
  {
   "cell_type": "code",
   "execution_count": 11,
   "id": "d5ef59d5",
   "metadata": {},
   "outputs": [
    {
     "name": "stdout",
     "output_type": "stream",
     "text": [
      "True\n"
     ]
    }
   ],
   "source": [
    "# shorthand syntax using a ternary operator\n",
    "def searchList(aList, el):\n",
    "    return True if el in aList else False\n",
    "result = searchList( [ \"one\", 2, \"three\" ], 2) #resut = True\n",
    "print(result)"
   ]
  },
  {
   "cell_type": "markdown",
   "id": "8fc92617",
   "metadata": {},
   "source": [
    "# WEDNESDAY EXERCISES\n"
   ]
  },
  {
   "cell_type": "code",
   "execution_count": 12,
   "id": "80b0863f",
   "metadata": {},
   "outputs": [
    {
     "name": "stdout",
     "output_type": "stream",
     "text": [
      "insira seu nomeNatan\n",
      "insira seu sobrenomeSabino\n",
      "Natan Sabino\n"
     ]
    }
   ],
   "source": [
    "firstName = input(\"insira seu nome\")\n",
    "lastName = input(\"insira seu sobrenome\")\n",
    "\n",
    "def juntarNome(first, last):\n",
    "    compliteName = first + \" \" + last\n",
    "    return compliteName\n",
    "\n",
    "print(juntarNome(firstName, lastName))"
   ]
  },
  {
   "cell_type": "code",
   "execution_count": 14,
   "id": "2fc2d23f",
   "metadata": {},
   "outputs": [
    {
     "name": "stdout",
     "output_type": "stream",
     "text": [
      "What is your name?natan\n",
      "natan\n"
     ]
    }
   ],
   "source": [
    "def whatisyourname():\n",
    "    var1 = input(\"What is your name?\")\n",
    "    return var1\n",
    "\n",
    "var2 = whatisyourname()\n",
    "print(var2)"
   ]
  },
  {
   "cell_type": "markdown",
   "id": "e72caba2",
   "metadata": {},
   "source": [
    "# THURSDAY: Scope\n"
   ]
  },
  {
   "cell_type": "code",
   "execution_count": 2,
   "id": "66b90bfc",
   "metadata": {},
   "outputs": [
    {
     "ename": "UnboundLocalError",
     "evalue": "cannot access local variable 'number' where it is not associated with a value",
     "output_type": "error",
     "traceback": [
      "\u001b[1;31m---------------------------------------------------------------------------\u001b[0m",
      "\u001b[1;31mUnboundLocalError\u001b[0m                         Traceback (most recent call last)",
      "Cell \u001b[1;32mIn[2], line 6\u001b[0m\n\u001b[0;32m      3\u001b[0m \u001b[38;5;28;01mdef\u001b[39;00m \u001b[38;5;21mscopeTest\u001b[39m():\n\u001b[0;32m      4\u001b[0m     number \u001b[38;5;241m+\u001b[39m\u001b[38;5;241m=\u001b[39m \u001b[38;5;241m1\u001b[39m \u001b[38;5;66;03m#not accessible due to function lever scope\u001b[39;00m\n\u001b[1;32m----> 6\u001b[0m scopeTest()\n",
      "Cell \u001b[1;32mIn[2], line 4\u001b[0m, in \u001b[0;36mscopeTest\u001b[1;34m()\u001b[0m\n\u001b[0;32m      3\u001b[0m \u001b[38;5;28;01mdef\u001b[39;00m \u001b[38;5;21mscopeTest\u001b[39m():\n\u001b[1;32m----> 4\u001b[0m     number \u001b[38;5;241m+\u001b[39m\u001b[38;5;241m=\u001b[39m \u001b[38;5;241m1\u001b[39m\n",
      "\u001b[1;31mUnboundLocalError\u001b[0m: cannot access local variable 'number' where it is not associated with a value"
     ]
    }
   ],
   "source": [
    "# where global variables can be accessed\n",
    "number = 5\n",
    "def scopeTest():\n",
    "    number += 1 #not accessible due to function lever scope\n",
    "    \n",
    "scopeTest()"
   ]
  },
  {
   "cell_type": "code",
   "execution_count": 3,
   "id": "b2baca17",
   "metadata": {},
   "outputs": [
    {
     "name": "stdout",
     "output_type": "stream",
     "text": [
      "function\n"
     ]
    }
   ],
   "source": [
    "# accessing variables defined in a function\n",
    "def scopeTest():\n",
    "    word = \"function\"\n",
    "    return word\n",
    "value = scopeTest()\n",
    "print(value)"
   ]
  },
  {
   "cell_type": "code",
   "execution_count": 5,
   "id": "ea4e475f",
   "metadata": {},
   "outputs": [
    {
     "name": "stdout",
     "output_type": "stream",
     "text": [
      "5\n"
     ]
    }
   ],
   "source": [
    "num = 5\n",
    "def changeNum(n):\n",
    "    n += 5\n",
    "    print(num)\n",
    "changeNum(num)"
   ]
  },
  {
   "cell_type": "code",
   "execution_count": 7,
   "id": "83ba8d67",
   "metadata": {},
   "outputs": [
    {
     "name": "stdout",
     "output_type": "stream",
     "text": [
      "Before Altering: ['baseball', 'football', 'hockey', 'basketball']\n",
      "After Altering: ['soccer', 'football', 'hockey', 'basketball']\n"
     ]
    }
   ],
   "source": [
    "# changing list item values by index\n",
    "sports = [ \"baseball\", \"football\", \"hockey\", \"basketball\" ]\n",
    "def change(aList):\n",
    "    aList[ 0 ] = \"soccer\"\n",
    "print(\"Before Altering: {}\".format(sports) )\n",
    "change(sports)\n",
    "print( \"After Altering: {}\".format(sports) )"
   ]
  },
  {
   "cell_type": "markdown",
   "id": "35772e14",
   "metadata": {},
   "source": [
    "# thursday exercises"
   ]
  },
  {
   "cell_type": "code",
   "execution_count": 9,
   "id": "48d8ac9d",
   "metadata": {},
   "outputs": [
    {
     "name": "stdout",
     "output_type": "stream",
     "text": [
      "['Bill', 'rich', 'amanda']\n"
     ]
    }
   ],
   "source": [
    "names = ['bob', 'rich', 'amanda']\n",
    "def changeValue(alist, name, index):\n",
    "    alist[index] = name\n",
    "changeValue(names, \"Bill\", 0)\n",
    "print(names)"
   ]
  },
  {
   "cell_type": "markdown",
   "id": "245d7d11",
   "metadata": {},
   "source": [
    "# Friday: Creating a Shopping Card\n"
   ]
  },
  {
   "cell_type": "code",
   "execution_count": 3,
   "id": "d97c2550",
   "metadata": {},
   "outputs": [
    {
     "name": "stdout",
     "output_type": "stream",
     "text": [
      "Your cart is empty.\n"
     ]
    }
   ],
   "source": [
    "# import necessary functions\n",
    "from IPython.display import clear_output\n",
    "# global list variable\n",
    "cart = []\n",
    "\n",
    "# create functions to add items to card\n",
    "def addItem(item):\n",
    "    clear_output()\n",
    "    cart.append(item)\n",
    "    print(\"{} has beem added.\".format(item))\n",
    "    \n",
    "#create function to remove items from cart\n",
    "def removeItem(item):\n",
    "    clear_output()\n",
    "    try:\n",
    "        cart.remove(item)\n",
    "        print(\"{} has been removed.\".format(item))\n",
    "    except:\n",
    "        print(\"Sorry we could not remove that item.\")\n",
    "        \n",
    "# create a function to show items in cart\n",
    "def showCart():\n",
    "    clear_output()\n",
    "    if cart:\n",
    "        print(\"Here is your cart:\")\n",
    "        for item in cart:\n",
    "            print(\"- {}\".format(item))\n",
    "    else:\n",
    "        print(\"Your cart is empty.\")\n",
    "        \n",
    "#create function to clear items from cart\n",
    "def clearCart():\n",
    "    clear_output()\n",
    "    cart.clear()\n",
    "    print(\"Your cart is empty.\")\n",
    "    \n",
    "# create main function that loops until the user quits\n",
    "def main():\n",
    "    done = False\n",
    "    while not done:\n",
    "        ans = input(\"quit/add/remove/show/clear:\").lower()\n",
    "        # base case\n",
    "        if ans == \"quit\":\n",
    "            print(\"Thanks for using our program.\")\n",
    "            showCart()\n",
    "            done = True\n",
    "        elif ans == \"add\":\n",
    "            item = input(\"What would you like to add?\").title()\n",
    "            addItem(item)\n",
    "        elif ans == \"remove\":\n",
    "            showCart()\n",
    "            item = input(\"What item would you like to remove?\").title()\n",
    "            removeItem(item)\n",
    "        elif ans == \"show\":\n",
    "            showCart()\n",
    "        elif ans == \"clear\":\n",
    "            clearCart()\n",
    "        else:\n",
    "            print(\"Sorry that was not an option.\")\n",
    "main() #run the program"
   ]
  },
  {
   "cell_type": "code",
   "execution_count": null,
   "id": "daea812a",
   "metadata": {},
   "outputs": [],
   "source": []
  }
 ],
 "metadata": {
  "kernelspec": {
   "display_name": "Python 3 (ipykernel)",
   "language": "python",
   "name": "python3"
  },
  "language_info": {
   "codemirror_mode": {
    "name": "ipython",
    "version": 3
   },
   "file_extension": ".py",
   "mimetype": "text/x-python",
   "name": "python",
   "nbconvert_exporter": "python",
   "pygments_lexer": "ipython3",
   "version": "3.11.4"
  }
 },
 "nbformat": 4,
 "nbformat_minor": 5
}
