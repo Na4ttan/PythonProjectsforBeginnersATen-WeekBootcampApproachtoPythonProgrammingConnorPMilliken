{
 "cells": [
  {
   "cell_type": "markdown",
   "id": "568c3fa2",
   "metadata": {},
   "source": [
    "# week 01"
   ]
  },
  {
   "cell_type": "code",
   "execution_count": 1,
   "id": "3a0b4536",
   "metadata": {},
   "outputs": [
    {
     "name": "stdout",
     "output_type": "stream",
     "text": [
      "Hello, buddy!\n"
     ]
    }
   ],
   "source": [
    "# this is python\n",
    "print(\"Hello, buddy!\")"
   ]
  },
  {
   "cell_type": "code",
   "execution_count": 2,
   "id": "6686a31f",
   "metadata": {
    "scrolled": true
   },
   "outputs": [
    {
     "name": "stdout",
     "output_type": "stream",
     "text": [
      "Hello, world!\n"
     ]
    }
   ],
   "source": [
    "print(\"Hello, world!\")"
   ]
  },
  {
   "cell_type": "markdown",
   "id": "a380aff9",
   "metadata": {},
   "source": [
    "# Guessing Game\n",
    "\n"
   ]
  },
  {
   "cell_type": "code",
   "execution_count": 4,
   "id": "b01cb202",
   "metadata": {},
   "outputs": [
    {
     "name": "stdout",
     "output_type": "stream",
     "text": [
      "Congrats! You guessed it correctly.\n",
      "It took you 8 guesses!\n"
     ]
    }
   ],
   "source": [
    "# Guessing Game\n",
    "from random import randint\n",
    "from IPython.display import clear_output\n",
    "\n",
    "guessed = False\n",
    "number = randint(0,100)\n",
    "guesses = 0\n",
    "\n",
    "while not guessed:\n",
    "    ans = input(\"Try to guess the number I am thinkng of!\") # use tab to indent\n",
    "    \n",
    "    guesses += 1\n",
    "    \n",
    "    clear_output()\n",
    "    \n",
    "    if int(ans) == number:\n",
    "        print(\"Congrats! You guessed it correctly.\") # use tab twice to indent twice\n",
    "        print(\"It took you {} guesses!\".format(guesses))\n",
    "        break\n",
    "    elif int(ans) > number:\n",
    "        print(\"The number is lower than what you guessed.\")\n",
    "    elif int(ans) < number:\n",
    "        print(\"The number is greater than what you guessed.\")"
   ]
  },
  {
   "cell_type": "code",
   "execution_count": null,
   "id": "3284281d",
   "metadata": {},
   "outputs": [],
   "source": []
  }
 ],
 "metadata": {
  "kernelspec": {
   "display_name": "Python 3 (ipykernel)",
   "language": "python",
   "name": "python3"
  },
  "language_info": {
   "codemirror_mode": {
    "name": "ipython",
    "version": 3
   },
   "file_extension": ".py",
   "mimetype": "text/x-python",
   "name": "python",
   "nbconvert_exporter": "python",
   "pygments_lexer": "ipython3",
   "version": "3.11.4"
  }
 },
 "nbformat": 4,
 "nbformat_minor": 5
}
