{
 "cells": [
  {
   "cell_type": "markdown",
   "id": "a6a8cc01",
   "metadata": {},
   "source": [
    "challenge quiestion\n"
   ]
  },
  {
   "cell_type": "code",
   "execution_count": 2,
   "id": "85d45661",
   "metadata": {},
   "outputs": [],
   "source": [
    "\n",
    "#print('{} is my favorite sport'.format(element))\n",
    "#element = 'Football'\n",
    "\n",
    "#it will not work because the varieble was declared before the function that call it \n"
   ]
  },
  {
   "cell_type": "markdown",
   "id": "af61d347",
   "metadata": {},
   "source": [
    "User Input & Type Converting"
   ]
  },
  {
   "cell_type": "code",
   "execution_count": 4,
   "id": "48924e2f",
   "metadata": {},
   "outputs": [
    {
     "name": "stdout",
     "output_type": "stream",
     "text": [
      "What is your name?Natan\n",
      "Natan\n"
     ]
    }
   ],
   "source": [
    "# accepting and outputting user input\n",
    "print(input(\"What is your name?\"))"
   ]
  },
  {
   "cell_type": "code",
   "execution_count": 5,
   "id": "5be376f4",
   "metadata": {},
   "outputs": [
    {
     "name": "stdout",
     "output_type": "stream",
     "text": [
      "What is your name?\n",
      "\n"
     ]
    }
   ],
   "source": [
    "# accepting and outputting user input\n",
    "print(input(\"What is your name?\"))\n"
   ]
  },
  {
   "cell_type": "code",
   "execution_count": 16,
   "id": "9c56ae75",
   "metadata": {},
   "outputs": [
    {
     "name": "stdout",
     "output_type": "stream",
     "text": [
      "What is your name?Natan\n",
      "Hello Natan!\n"
     ]
    }
   ],
   "source": [
    "# saving what the user inputs\n",
    "ans = input(\"What is your name?\")\n",
    "print(\"Hello {}!\".format(ans))"
   ]
  },
  {
   "cell_type": "code",
   "execution_count": 17,
   "id": "65a158bd",
   "metadata": {},
   "outputs": [
    {
     "name": "stdout",
     "output_type": "stream",
     "text": [
      "<class 'int'>\n"
     ]
    }
   ],
   "source": [
    "# how to check the data type of a variable\n",
    "num = 5\n",
    "print(type(num))"
   ]
  },
  {
   "cell_type": "code",
   "execution_count": 19,
   "id": "ae00d0c5",
   "metadata": {},
   "outputs": [
    {
     "name": "stdout",
     "output_type": "stream",
     "text": [
      "digite um valor1\n",
      "<class 'str'>\n"
     ]
    }
   ],
   "source": [
    "nume = input(\"digite um valor\")\n",
    "print(type(nume))"
   ]
  },
  {
   "cell_type": "code",
   "execution_count": null,
   "id": "741456b2",
   "metadata": {
    "collapsed": true
   },
   "outputs": [],
   "source": []
  },
  {
   "cell_type": "code",
   "execution_count": null,
   "id": "7c21cfb8",
   "metadata": {},
   "outputs": [],
   "source": []
  },
  {
   "cell_type": "raw",
   "id": "4b14d9e2",
   "metadata": {},
   "source": []
  },
  {
   "cell_type": "code",
   "execution_count": null,
   "id": "610b22a4",
   "metadata": {},
   "outputs": [],
   "source": []
  },
  {
   "cell_type": "code",
   "execution_count": null,
   "id": "c225a40a",
   "metadata": {},
   "outputs": [],
   "source": []
  },
  {
   "cell_type": "raw",
   "id": "6391a0d4",
   "metadata": {},
   "source": []
  }
 ],
 "metadata": {
  "kernelspec": {
   "display_name": "Python 3 (ipykernel)",
   "language": "python",
   "name": "python3"
  },
  "language_info": {
   "codemirror_mode": {
    "name": "ipython",
    "version": 3
   },
   "file_extension": ".py",
   "mimetype": "text/x-python",
   "name": "python",
   "nbconvert_exporter": "python",
   "pygments_lexer": "ipython3",
   "version": "3.11.4"
  }
 },
 "nbformat": 4,
 "nbformat_minor": 5
}
