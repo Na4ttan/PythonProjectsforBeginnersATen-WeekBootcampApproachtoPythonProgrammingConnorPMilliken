{
 "cells": [
  {
   "cell_type": "code",
   "execution_count": 1,
   "id": "95769aa6",
   "metadata": {},
   "outputs": [
    {
     "data": {
      "text/plain": [
       "[1, 2, 3, 7, 8, 8, 10]"
      ]
     },
     "execution_count": 1,
     "metadata": {},
     "output_type": "execute_result"
    }
   ],
   "source": [
    "def executar_merge_sort(lista):\n",
    "    if len(lista) <= 1: return lista\n",
    "    else:\n",
    "        meio = len(lista) // 2\n",
    "        esquerda = executar_merge_sort(lista[:meio])\n",
    "        direita = executar_merge_sort(lista[meio:])\n",
    "        return executar_merge(esquerda, direita)\n",
    "\n",
    "    \n",
    "def executar_merge(esquerda, direita):\n",
    "    sub_lista_ordenada = []\n",
    "    topo_esquerda, topo_direita = 0, 0\n",
    "    while topo_esquerda < len(esquerda) and topo_direita < len(direita):\n",
    "        if esquerda[topo_esquerda] <= direita[topo_direita]:\n",
    "            sub_lista_ordenada.append(esquerda[topo_esquerda])\n",
    "            topo_esquerda += 1\n",
    "        else:\n",
    "            sub_lista_ordenada.append(direita[topo_direita])\n",
    "            topo_direita += 1\n",
    "    sub_lista_ordenada += esquerda[topo_esquerda:]\n",
    "    sub_lista_ordenada += direita[topo_direita:]\n",
    "    return sub_lista_ordenada\n",
    "\n",
    "\n",
    "lista = [10, 8, 7, 8, 3, 2, 1]\n",
    "executar_merge_sort(lista)"
   ]
  },
  {
   "cell_type": "code",
   "execution_count": 2,
   "id": "de8cafb8",
   "metadata": {},
   "outputs": [
    {
     "ename": "SyntaxError",
     "evalue": "invalid syntax (1375962872.py, line 3)",
     "output_type": "error",
     "traceback": [
      "\u001b[1;36m  Cell \u001b[1;32mIn[2], line 3\u001b[1;36m\u001b[0m\n\u001b[1;33m    soma = lista1 += lista2\u001b[0m\n\u001b[1;37m                  ^\u001b[0m\n\u001b[1;31mSyntaxError\u001b[0m\u001b[1;31m:\u001b[0m invalid syntax\n"
     ]
    }
   ],
   "source": [
    "lista1 = [1, 2, 3]\n",
    "lista2 = [4, 5 ,6]\n",
    "soma = lista1 += lista2\n",
    "print(soma)"
   ]
  },
  {
   "cell_type": "code",
   "execution_count": 3,
   "id": "ed6eba59",
   "metadata": {},
   "outputs": [
    {
     "ename": "SyntaxError",
     "evalue": "invalid syntax (1397939768.py, line 3)",
     "output_type": "error",
     "traceback": [
      "\u001b[1;36m  Cell \u001b[1;32mIn[3], line 3\u001b[1;36m\u001b[0m\n\u001b[1;33m    soma = lista1 += lista2\u001b[0m\n\u001b[1;37m                  ^\u001b[0m\n\u001b[1;31mSyntaxError\u001b[0m\u001b[1;31m:\u001b[0m invalid syntax\n"
     ]
    }
   ],
   "source": [
    "lista1 = [1, 2, 3]\n",
    "lista2 = [4, 5, 6]\n",
    "soma = lista1 += lista2\n",
    "print(soma)"
   ]
  },
  {
   "cell_type": "code",
   "execution_count": 4,
   "id": "f5e073c5",
   "metadata": {},
   "outputs": [
    {
     "name": "stdout",
     "output_type": "stream",
     "text": [
      "[1, 2, 3, 4, 5, 6]\n"
     ]
    }
   ],
   "source": [
    "lista1 = [1, 2, 3]\n",
    "lista2 = [4, 5 ,6]\n",
    "lista1 += lista2\n",
    "print(lista1)"
   ]
  },
  {
   "cell_type": "code",
   "execution_count": null,
   "id": "0d240509",
   "metadata": {},
   "outputs": [],
   "source": []
  }
 ],
 "metadata": {
  "kernelspec": {
   "display_name": "Python 3 (ipykernel)",
   "language": "python",
   "name": "python3"
  },
  "language_info": {
   "codemirror_mode": {
    "name": "ipython",
    "version": 3
   },
   "file_extension": ".py",
   "mimetype": "text/x-python",
   "name": "python",
   "nbconvert_exporter": "python",
   "pygments_lexer": "ipython3",
   "version": "3.11.4"
  }
 },
 "nbformat": 4,
 "nbformat_minor": 5
}
